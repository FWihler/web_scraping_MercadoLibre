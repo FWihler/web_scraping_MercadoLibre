{
 "cells": [
  {
   "cell_type": "code",
   "execution_count": 1,
   "id": "01af8cec",
   "metadata": {},
   "outputs": [],
   "source": [
    "from bs4 import BeautifulSoup\n",
    "import requests\n",
    "import time\n",
    "import datetime\n",
    "\n",
    "import smtplib"
   ]
  },
  {
   "cell_type": "code",
   "execution_count": 19,
   "id": "afaa451c",
   "metadata": {},
   "outputs": [
    {
     "name": "stdout",
     "output_type": "stream",
     "text": [
      "Product_Title: Heladera no frost Philco 94PHSB555XT plateada con freezer 555L 220V\n"
     ]
    }
   ],
   "source": [
    "page = requests.get(URL, headers=headers)\n",
    "\n",
    "soup1 = BeautifulSoup(page.content, \"html.parser\")\n",
    "\n",
    "soup2 = BeautifulSoup(soup1.prettify(), \"html.parser\")\n",
    "\n",
    "title_element = soup2.find('h1', class_='ui-pdp-title')\n",
    "if title_element:\n",
    "    Product_title = title_element.get_text().strip()\n",
    "else:\n",
    "    Product_title = 'Title not found'\n",
    "\n",
    "print(\"Product_Title:\", Product_title)"
   ]
  },
  {
   "cell_type": "code",
   "execution_count": 27,
   "id": "17f0dcba",
   "metadata": {},
   "outputs": [],
   "source": [
    "price_fraction_element = soup2.find('span', class_='andes-money-amount__fraction')\n",
    "if price_fraction_element:\n",
    "    price = price_fraction_element.get_text().strip()\n",
    "else:\n",
    "    price = 'Price  not found'"
   ]
  },
  {
   "cell_type": "code",
   "execution_count": 28,
   "id": "5f2f64f8",
   "metadata": {},
   "outputs": [
    {
     "name": "stdout",
     "output_type": "stream",
     "text": [
      "Price : 1.065.624\n"
     ]
    }
   ],
   "source": [
    "print(\"Price :\", price_fraction)"
   ]
  },
  {
   "cell_type": "code",
   "execution_count": 29,
   "id": "6893a835",
   "metadata": {},
   "outputs": [
    {
     "name": "stdout",
     "output_type": "stream",
     "text": [
      "Heladera no frost Philco 94PHSB555XT plateada con freezer 555L 220V\n",
      "1.065.624\n"
     ]
    }
   ],
   "source": [
    "\n",
    "title = title.strip()\n",
    "\n",
    "print(title)\n",
    "print(price)"
   ]
  },
  {
   "cell_type": "code",
   "execution_count": 30,
   "id": "1e84ed03",
   "metadata": {},
   "outputs": [],
   "source": [
    "import datetime\n",
    "\n",
    "today = datetime.date.today()"
   ]
  },
  {
   "cell_type": "code",
   "execution_count": 31,
   "id": "865c4a1f",
   "metadata": {},
   "outputs": [],
   "source": [
    "import csv \n",
    "\n",
    "header = ['Title', 'Price', 'Date']\n",
    "data = [title, price, today]\n",
    "\n",
    "\n",
    "with open('Meli.csv', 'w', newline='', encoding='UTF8') as f:\n",
    "    writer = csv.writer(f)\n",
    "    writer.writerow(header)\n",
    "    writer.writerow(data)"
   ]
  },
  {
   "cell_type": "code",
   "execution_count": 33,
   "id": "9c273aa6",
   "metadata": {},
   "outputs": [],
   "source": [
    "import pandas as pd"
   ]
  },
  {
   "cell_type": "code",
   "execution_count": 35,
   "id": "9d5bd8fb",
   "metadata": {},
   "outputs": [],
   "source": [
    "df = pd.read_csv(r'C:\\Users\\Widows10\\Desktop\\Meli.csv')"
   ]
  },
  {
   "cell_type": "code",
   "execution_count": 36,
   "id": "44e527c2",
   "metadata": {},
   "outputs": [
    {
     "name": "stdout",
     "output_type": "stream",
     "text": [
      "                                               Title      Price        Date\n",
      "0  Heladera no frost Philco 94PHSB555XT plateada ...  1.065.624  2023-09-03\n"
     ]
    }
   ],
   "source": [
    "print(df)"
   ]
  },
  {
   "cell_type": "code",
   "execution_count": 37,
   "id": "c1ed3adf",
   "metadata": {},
   "outputs": [],
   "source": [
    "with open('Meli.csv', 'a+', newline='', encoding='UTF8') as f:\n",
    "    writer = csv.writer(f)\n",
    "    writer.writerow(data)"
   ]
  },
  {
   "cell_type": "code",
   "execution_count": 40,
   "id": "6b2e6f9d",
   "metadata": {},
   "outputs": [
    {
     "name": "stdout",
     "output_type": "stream",
     "text": [
      "                                               Title      Price        Date\n",
      "0  Heladera no frost Philco 94PHSB555XT plateada ...  1.065.624  2023-09-03\n"
     ]
    }
   ],
   "source": [
    "import pandas as pd\n",
    "\n",
    "df = pd.read_csv(r'C:\\Users\\Widows10\\Desktop\\Meli.csv.')\n",
    "\n",
    "print(df)"
   ]
  },
  {
   "cell_type": "code",
   "execution_count": 42,
   "id": "1a8defdc",
   "metadata": {},
   "outputs": [
    {
     "name": "stdout",
     "output_type": "stream",
     "text": [
      "                                               Title      Price        Date\n",
      "0  Heladera no frost Philco 94PHSB555XT plateada ...  1.065.624  2023-09-03\n"
     ]
    }
   ],
   "source": [
    "print(df.head())"
   ]
  },
  {
   "cell_type": "code",
   "execution_count": 43,
   "id": "04236da4",
   "metadata": {},
   "outputs": [
    {
     "data": {
      "text/html": [
       "<div>\n",
       "<style scoped>\n",
       "    .dataframe tbody tr th:only-of-type {\n",
       "        vertical-align: middle;\n",
       "    }\n",
       "\n",
       "    .dataframe tbody tr th {\n",
       "        vertical-align: top;\n",
       "    }\n",
       "\n",
       "    .dataframe thead th {\n",
       "        text-align: right;\n",
       "    }\n",
       "</style>\n",
       "<table border=\"1\" class=\"dataframe\">\n",
       "  <thead>\n",
       "    <tr style=\"text-align: right;\">\n",
       "      <th></th>\n",
       "      <th>Title</th>\n",
       "      <th>Price</th>\n",
       "      <th>Date</th>\n",
       "    </tr>\n",
       "  </thead>\n",
       "  <tbody>\n",
       "    <tr>\n",
       "      <th>count</th>\n",
       "      <td>1</td>\n",
       "      <td>1</td>\n",
       "      <td>1</td>\n",
       "    </tr>\n",
       "    <tr>\n",
       "      <th>unique</th>\n",
       "      <td>1</td>\n",
       "      <td>1</td>\n",
       "      <td>1</td>\n",
       "    </tr>\n",
       "    <tr>\n",
       "      <th>top</th>\n",
       "      <td>Heladera no frost Philco 94PHSB555XT plateada ...</td>\n",
       "      <td>1.065.624</td>\n",
       "      <td>2023-09-03</td>\n",
       "    </tr>\n",
       "    <tr>\n",
       "      <th>freq</th>\n",
       "      <td>1</td>\n",
       "      <td>1</td>\n",
       "      <td>1</td>\n",
       "    </tr>\n",
       "  </tbody>\n",
       "</table>\n",
       "</div>"
      ],
      "text/plain": [
       "                                                    Title      Price  \\\n",
       "count                                                   1          1   \n",
       "unique                                                  1          1   \n",
       "top     Heladera no frost Philco 94PHSB555XT plateada ...  1.065.624   \n",
       "freq                                                    1          1   \n",
       "\n",
       "              Date  \n",
       "count            1  \n",
       "unique           1  \n",
       "top     2023-09-03  \n",
       "freq             1  "
      ]
     },
     "execution_count": 43,
     "metadata": {},
     "output_type": "execute_result"
    }
   ],
   "source": [
    "df.describe()"
   ]
  },
  {
   "cell_type": "code",
   "execution_count": null,
   "id": "d804b627",
   "metadata": {},
   "outputs": [],
   "source": []
  }
 ],
 "metadata": {
  "kernelspec": {
   "display_name": "Python 3 (ipykernel)",
   "language": "python",
   "name": "python3"
  },
  "language_info": {
   "codemirror_mode": {
    "name": "ipython",
    "version": 3
   },
   "file_extension": ".py",
   "mimetype": "text/x-python",
   "name": "python",
   "nbconvert_exporter": "python",
   "pygments_lexer": "ipython3",
   "version": "3.11.4"
  }
 },
 "nbformat": 4,
 "nbformat_minor": 5
}
